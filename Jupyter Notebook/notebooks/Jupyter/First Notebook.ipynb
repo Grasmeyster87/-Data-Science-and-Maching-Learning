{
 "cells": [
  {
   "cell_type": "markdown",
   "id": "d039c540-2ba3-4763-9024-3244c4449910",
   "metadata": {},
   "source": [
    "# First Notebook"
   ]
  },
  {
   "cell_type": "markdown",
   "id": "9964ef93-160b-4ada-923c-ed4840790041",
   "metadata": {},
   "source": [
    "## First Section"
   ]
  },
  {
   "cell_type": "markdown",
   "id": "79c3f0d3-eebd-4bec-861d-d2492b636dc8",
   "metadata": {},
   "source": [
    "my_name"
   ]
  },
  {
   "cell_type": "code",
   "execution_count": null,
   "id": "7200f9cf-6b3a-4a93-841b-672838597f66",
   "metadata": {},
   "outputs": [],
   "source": [
    "10 + 2"
   ]
  },
  {
   "cell_type": "code",
   "execution_count": null,
   "id": "9408dc36-170d-4620-af3d-128a4392e412",
   "metadata": {},
   "outputs": [],
   "source": [
    "my_name = 'Vitaliy'\n",
    "my_name"
   ]
  },
  {
   "cell_type": "code",
   "execution_count": null,
   "id": "4e43c254-60d5-4f2e-938c-dee9b2bf7700",
   "metadata": {},
   "outputs": [],
   "source": [
    "my_name"
   ]
  },
  {
   "cell_type": "code",
   "execution_count": null,
   "id": "66b38735-8b3d-4a85-907c-54d1cd54bc99",
   "metadata": {},
   "outputs": [],
   "source": [
    "my_name = 'Alice'\n",
    "my_name"
   ]
  },
  {
   "cell_type": "markdown",
   "id": "0bcfcb86-f3b0-41e9-bfec-c90887028b26",
   "metadata": {},
   "source": [
    "## Second Section"
   ]
  },
  {
   "cell_type": "code",
   "execution_count": null,
   "id": "e935ac04-d6cf-45b6-ab8f-9a380f2e4cbb",
   "metadata": {},
   "outputs": [],
   "source": [
    "f'My name is {my_name}'"
   ]
  }
 ],
 "metadata": {
  "kernelspec": {
   "display_name": "Python 3 (ipykernel)",
   "language": "python",
   "name": "python3"
  },
  "language_info": {
   "codemirror_mode": {
    "name": "ipython",
    "version": 3
   },
   "file_extension": ".py",
   "mimetype": "text/x-python",
   "name": "python",
   "nbconvert_exporter": "python",
   "pygments_lexer": "ipython3",
   "version": "3.13.2"
  }
 },
 "nbformat": 4,
 "nbformat_minor": 5
}
