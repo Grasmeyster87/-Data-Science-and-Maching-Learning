{
 "cells": [
  {
   "cell_type": "code",
   "execution_count": 1,
   "id": "7200f9cf-6b3a-4a93-841b-672838597f66",
   "metadata": {},
   "outputs": [
    {
     "data": {
      "text/plain": [
       "12"
      ]
     },
     "execution_count": 1,
     "metadata": {},
     "output_type": "execute_result"
    }
   ],
   "source": [
    "10 + 2"
   ]
  },
  {
   "cell_type": "code",
   "execution_count": 1,
   "id": "9408dc36-170d-4620-af3d-128a4392e412",
   "metadata": {},
   "outputs": [
    {
     "data": {
      "text/plain": [
       "'Vitaliy'"
      ]
     },
     "execution_count": 1,
     "metadata": {},
     "output_type": "execute_result"
    }
   ],
   "source": [
    "my_name = 'Vitaliy'\n",
    "my_name"
   ]
  },
  {
   "cell_type": "code",
   "execution_count": 2,
   "id": "4e43c254-60d5-4f2e-938c-dee9b2bf7700",
   "metadata": {},
   "outputs": [
    {
     "data": {
      "text/plain": [
       "'Vitaliy'"
      ]
     },
     "execution_count": 2,
     "metadata": {},
     "output_type": "execute_result"
    }
   ],
   "source": [
    "my_name"
   ]
  }
 ],
 "metadata": {
  "kernelspec": {
   "display_name": "Python 3 (ipykernel)",
   "language": "python",
   "name": "python3"
  },
  "language_info": {
   "codemirror_mode": {
    "name": "ipython",
    "version": 3
   },
   "file_extension": ".py",
   "mimetype": "text/x-python",
   "name": "python",
   "nbconvert_exporter": "python",
   "pygments_lexer": "ipython3",
   "version": "3.13.2"
  }
 },
 "nbformat": 4,
 "nbformat_minor": 5
}
