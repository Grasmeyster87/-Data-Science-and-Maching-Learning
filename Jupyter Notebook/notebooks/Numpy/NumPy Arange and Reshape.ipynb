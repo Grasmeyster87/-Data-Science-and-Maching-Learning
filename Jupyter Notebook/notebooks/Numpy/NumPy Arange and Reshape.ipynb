{
 "cells": [
  {
   "cell_type": "code",
   "execution_count": 1,
   "id": "e8d97595-cbbb-4ac2-81b1-eb62fa7b0027",
   "metadata": {},
   "outputs": [],
   "source": [
    "import numpy as np"
   ]
  },
  {
   "cell_type": "code",
   "execution_count": 2,
   "id": "ff7570c8-73c0-4156-8b31-d6fd22fc7260",
   "metadata": {},
   "outputs": [
    {
     "data": {
      "text/plain": [
       "array([0, 1, 2, 3, 4, 5, 6, 7, 8, 9])"
      ]
     },
     "execution_count": 2,
     "metadata": {},
     "output_type": "execute_result"
    }
   ],
   "source": [
    "np.arange(10)"
   ]
  },
  {
   "cell_type": "code",
   "execution_count": 3,
   "id": "98708831-e8f6-44c9-9798-5209a0471956",
   "metadata": {},
   "outputs": [
    {
     "data": {
      "text/plain": [
       "array([15, 16, 17, 18, 19, 20, 21, 22, 23, 24])"
      ]
     },
     "execution_count": 3,
     "metadata": {},
     "output_type": "execute_result"
    }
   ],
   "source": [
    "np.arange(15, 25)"
   ]
  },
  {
   "cell_type": "code",
   "execution_count": 5,
   "id": "41a34f37-0ebc-4162-9671-8321749cc65b",
   "metadata": {},
   "outputs": [
    {
     "data": {
      "text/plain": [
       "array([20, 21, 22, 23, 24, 25, 26, 27, 28, 29])"
      ]
     },
     "execution_count": 5,
     "metadata": {},
     "output_type": "execute_result"
    }
   ],
   "source": [
    "np.arange(20, 30, 3)"
   ]
  },
  {
   "cell_type": "code",
   "execution_count": 6,
   "id": "64f329e9-9ba9-4797-abfc-a6f1cb10ff02",
   "metadata": {},
   "outputs": [
    {
     "data": {
      "text/plain": [
       "array([-20, -16, -12,  -8,  -4,   0,   4,   8,  12,  16,  20,  24,  28])"
      ]
     },
     "execution_count": 6,
     "metadata": {},
     "output_type": "execute_result"
    }
   ],
   "source": [
    "np.arange(-20, 30, 4)"
   ]
  },
  {
   "cell_type": "code",
   "execution_count": 7,
   "id": "9b1f4398-5ba9-43f0-abb8-44d0290ff810",
   "metadata": {},
   "outputs": [
    {
     "data": {
      "text/plain": [
       "array([[ 0,  1,  2,  3,  4,  5,  6,  7,  8,  9],\n",
       "       [10, 11, 12, 13, 14, 15, 16, 17, 18, 19]])"
      ]
     },
     "execution_count": 7,
     "metadata": {},
     "output_type": "execute_result"
    }
   ],
   "source": [
    "np.arange(20).reshape([2, 10])"
   ]
  },
  {
   "cell_type": "code",
   "execution_count": 9,
   "id": "f27bc15d-da8d-4ab6-9b97-566bd93020a3",
   "metadata": {},
   "outputs": [
    {
     "data": {
      "text/plain": [
       "array([[[ 0,  1,  2,  3,  4],\n",
       "        [ 5,  6,  7,  8,  9]],\n",
       "\n",
       "       [[10, 11, 12, 13, 14],\n",
       "        [15, 16, 17, 18, 19]]])"
      ]
     },
     "execution_count": 9,
     "metadata": {},
     "output_type": "execute_result"
    }
   ],
   "source": [
    "np.arange(20).reshape([2, 2, 5])"
   ]
  },
  {
   "cell_type": "code",
   "execution_count": 10,
   "id": "5e105788-ae78-4edb-bc62-5c808271ead3",
   "metadata": {},
   "outputs": [
    {
     "data": {
      "text/plain": [
       "array([[[ 0,  1,  2,  3,  4],\n",
       "        [ 5,  6,  7,  8,  9]],\n",
       "\n",
       "       [[10, 11, 12, 13, 14],\n",
       "        [15, 16, 17, 18, 19]]])"
      ]
     },
     "execution_count": 10,
     "metadata": {},
     "output_type": "execute_result"
    }
   ],
   "source": [
    "np.arange(20).reshape([2, 2, 5]).reshape([2, 2, 5])"
   ]
  },
  {
   "cell_type": "code",
   "execution_count": 11,
   "id": "8f22dcd4-5a50-41ee-b0f4-4f0e6f53af4b",
   "metadata": {},
   "outputs": [
    {
     "data": {
      "text/plain": [
       "array([0.19230506, 0.5381017 , 0.38611606, 0.20517514, 0.15987108,\n",
       "       0.1297335 , 0.70590845, 0.18590158, 0.63657088, 0.28529583])"
      ]
     },
     "execution_count": 11,
     "metadata": {},
     "output_type": "execute_result"
    }
   ],
   "source": [
    "np.random.random((10, ))"
   ]
  },
  {
   "cell_type": "code",
   "execution_count": 13,
   "id": "e05ae67d-e4e9-431b-ac88-4f861685aa96",
   "metadata": {},
   "outputs": [
    {
     "data": {
      "text/plain": [
       "array([[0.77132064, 0.02075195, 0.63364823, 0.74880388, 0.49850701],\n",
       "       [0.22479665, 0.19806286, 0.76053071, 0.16911084, 0.08833981]])"
      ]
     },
     "execution_count": 13,
     "metadata": {},
     "output_type": "execute_result"
    }
   ],
   "source": [
    "np.random.seed(10)\n",
    "np.random.random((10, )).reshape([2, 5])"
   ]
  },
  {
   "cell_type": "code",
   "execution_count": 14,
   "id": "a0e88760-ee9f-463d-b66f-c4c2f67f0cf9",
   "metadata": {},
   "outputs": [
    {
     "data": {
      "text/plain": [
       "array([[[59, 79, 54],\n",
       "        [65, 50, 67],\n",
       "        [77, 78, 75]],\n",
       "\n",
       "       [[79, 66, 79],\n",
       "        [67, 76, 58],\n",
       "        [59, 50, 60]],\n",
       "\n",
       "       [[58, 72, 54],\n",
       "        [69, 66, 54],\n",
       "        [65, 61, 72]],\n",
       "\n",
       "       [[74, 61, 76],\n",
       "        [51, 58, 54],\n",
       "        [64, 67, 69]]], dtype=int32)"
      ]
     },
     "execution_count": 14,
     "metadata": {},
     "output_type": "execute_result"
    }
   ],
   "source": [
    "np.random.seed(10)\n",
    "np.random.randint(50, 80, (4, 3, 3))"
   ]
  },
  {
   "cell_type": "code",
   "execution_count": 16,
   "id": "bfa4ea4f-0c16-4d13-ab22-2df5394927da",
   "metadata": {},
   "outputs": [
    {
     "data": {
      "text/plain": [
       "array([59, 79, 54, 65, 50, 67, 77, 78, 75, 79, 66, 79, 67, 76, 58, 59, 50,\n",
       "       60, 58, 72, 54, 69, 66, 54, 65, 61, 72, 74, 61, 76, 51, 58, 54, 64,\n",
       "       67, 69], dtype=int32)"
      ]
     },
     "execution_count": 16,
     "metadata": {},
     "output_type": "execute_result"
    }
   ],
   "source": [
    "np.random.seed(10)\n",
    "np.random.randint(50, 80, (4, 3, 3)).flatten()"
   ]
  },
  {
   "cell_type": "code",
   "execution_count": null,
   "id": "1574252e-7015-4e16-9c99-4220455c241e",
   "metadata": {},
   "outputs": [],
   "source": [
    "np.arange(30).reshape"
   ]
  }
 ],
 "metadata": {
  "kernelspec": {
   "display_name": "Python 3 (ipykernel)",
   "language": "python",
   "name": "python3"
  },
  "language_info": {
   "codemirror_mode": {
    "name": "ipython",
    "version": 3
   },
   "file_extension": ".py",
   "mimetype": "text/x-python",
   "name": "python",
   "nbconvert_exporter": "python",
   "pygments_lexer": "ipython3",
   "version": "3.13.2"
  }
 },
 "nbformat": 4,
 "nbformat_minor": 5
}
