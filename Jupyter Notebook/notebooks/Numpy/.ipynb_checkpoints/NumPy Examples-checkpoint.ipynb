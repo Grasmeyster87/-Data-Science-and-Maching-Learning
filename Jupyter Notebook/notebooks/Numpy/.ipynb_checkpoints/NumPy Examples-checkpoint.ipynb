{
 "cells": [
  {
   "cell_type": "code",
   "execution_count": 2,
   "id": "41f9821e-ff6a-4f89-b8e7-3e4e427c9ab7",
   "metadata": {},
   "outputs": [],
   "source": [
    "import numpy as np"
   ]
  },
  {
   "cell_type": "markdown",
   "id": "74078240-13e2-4003-8e61-ed1a9d8df19b",
   "metadata": {},
   "source": [
    "##  1. Calculating Total Revenue"
   ]
  },
  {
   "cell_type": "code",
   "execution_count": 3,
   "id": "5b2666c3-3883-4d68-9792-bec4bb2420b0",
   "metadata": {},
   "outputs": [
    {
     "data": {
      "text/plain": [
       "array([19.99, 29.99, 14.99,  9.99, 24.99])"
      ]
     },
     "execution_count": 3,
     "metadata": {},
     "output_type": "execute_result"
    }
   ],
   "source": [
    "prices = np.array([19.99, 29.99, 14.99, 9.99, 24.99])\n",
    "prices"
   ]
  },
  {
   "cell_type": "code",
   "execution_count": 4,
   "id": "15233005-261a-4d26-977c-6fc0e3283e57",
   "metadata": {},
   "outputs": [
    {
     "data": {
      "text/plain": [
       "array([10,  5,  8, 12,  3])"
      ]
     },
     "execution_count": 4,
     "metadata": {},
     "output_type": "execute_result"
    }
   ],
   "source": [
    "quantitis = np.array([10, 5, 8, 12, 3])\n",
    "quantitis"
   ]
  },
  {
   "cell_type": "code",
   "execution_count": 5,
   "id": "bdcba834-b983-4f17-96c7-7789f992f18d",
   "metadata": {},
   "outputs": [
    {
     "data": {
      "text/plain": [
       "array([199.9 , 149.95, 119.92, 119.88,  74.97])"
      ]
     },
     "execution_count": 5,
     "metadata": {},
     "output_type": "execute_result"
    }
   ],
   "source": [
    "revenue_per_product = prices * quantitis\n",
    "revenue_per_product"
   ]
  },
  {
   "cell_type": "code",
   "execution_count": 6,
   "id": "263e62da-d501-4df6-8903-3f47370f4b57",
   "metadata": {},
   "outputs": [
    {
     "data": {
      "text/plain": [
       "np.float64(664.62)"
      ]
     },
     "execution_count": 6,
     "metadata": {},
     "output_type": "execute_result"
    }
   ],
   "source": [
    "total_revenue = np.sum(revenue_per_product)\n",
    "total_revenue"
   ]
  },
  {
   "cell_type": "markdown",
   "id": "ac11ee89-6eee-4afe-94ee-4af21902cff9",
   "metadata": {},
   "source": [
    "## 2. Analyzing Blog Post Stats"
   ]
  },
  {
   "cell_type": "code",
   "execution_count": 7,
   "id": "33b89132-ea7b-4377-96c4-df4ee09a96a1",
   "metadata": {},
   "outputs": [
    {
     "data": {
      "text/plain": [
       "array([1000,  500,  800, 1200,  300,  600])"
      ]
     },
     "execution_count": 7,
     "metadata": {},
     "output_type": "execute_result"
    }
   ],
   "source": [
    "views = np.array([1000, 500, 800, 1200, 300, 600])\n",
    "views"
   ]
  },
  {
   "cell_type": "code",
   "execution_count": 8,
   "id": "0e6b5a72-c336-450f-8a81-151e6d01044e",
   "metadata": {},
   "outputs": [
    {
     "data": {
      "text/plain": [
       "np.int64(1200)"
      ]
     },
     "execution_count": 8,
     "metadata": {},
     "output_type": "execute_result"
    }
   ],
   "source": [
    "max_views = np.max(views)\n",
    "max_views"
   ]
  },
  {
   "cell_type": "code",
   "execution_count": 9,
   "id": "d5bbd0ee-52fd-47b1-9d8a-3b97e41ecc8c",
   "metadata": {},
   "outputs": [
    {
     "data": {
      "text/plain": [
       "np.int64(300)"
      ]
     },
     "execution_count": 9,
     "metadata": {},
     "output_type": "execute_result"
    }
   ],
   "source": [
    "min_views = np.min(views)\n",
    "min_views"
   ]
  },
  {
   "cell_type": "code",
   "execution_count": 10,
   "id": "590b1c30-0ccf-4561-a7f1-937b214a5ba7",
   "metadata": {},
   "outputs": [
    {
     "data": {
      "text/plain": [
       "np.float64(733.33)"
      ]
     },
     "execution_count": 10,
     "metadata": {},
     "output_type": "execute_result"
    }
   ],
   "source": [
    "average_views = np.round(np.mean(views), 2)\n",
    "average_views"
   ]
  },
  {
   "cell_type": "code",
   "execution_count": 11,
   "id": "82aec7ec-6e4e-48c6-a3dd-17bb42ffb6ce",
   "metadata": {},
   "outputs": [
    {
     "data": {
      "text/plain": [
       "np.int64(4400)"
      ]
     },
     "execution_count": 11,
     "metadata": {},
     "output_type": "execute_result"
    }
   ],
   "source": [
    "total_views = np.sum(views)\n",
    "total_views"
   ]
  },
  {
   "cell_type": "markdown",
   "id": "e215e586-bd66-4377-b7a9-785288925405",
   "metadata": {},
   "source": [
    "## 3. Splitting Order into Batches"
   ]
  },
  {
   "cell_type": "code",
   "execution_count": 15,
   "id": "eb7dafd0-6a9f-43d9-9cff-401dc32d373b",
   "metadata": {},
   "outputs": [
    {
     "data": {
      "text/plain": [
       "array([1001, 1002, 1003, 1004, 1005, 1006, 1007, 1008])"
      ]
     },
     "execution_count": 15,
     "metadata": {},
     "output_type": "execute_result"
    }
   ],
   "source": [
    "order_ids = np.array([1001, 1002, 1003, 1004, 1005, 1006, 1007, 1008])\n",
    "order_ids"
   ]
  },
  {
   "cell_type": "code",
   "execution_count": 16,
   "id": "2d9e5963-b694-49dc-8b96-917a34e78b2f",
   "metadata": {},
   "outputs": [
    {
     "data": {
      "text/plain": [
       "[array([1001, 1002]),\n",
       " array([1003, 1004]),\n",
       " array([1005, 1006]),\n",
       " array([1007, 1008])]"
      ]
     },
     "execution_count": 16,
     "metadata": {},
     "output_type": "execute_result"
    }
   ],
   "source": [
    "batches = np.split(order_ids, 4)\n",
    "batches"
   ]
  },
  {
   "cell_type": "code",
   "execution_count": 21,
   "id": "716518b0-893d-43e8-9b65-36231e5b7907",
   "metadata": {},
   "outputs": [
    {
     "name": "stdout",
     "output_type": "stream",
     "text": [
      "Batch number 0\n",
      "First Element in the batch: 1001\n",
      "Second Element in the batch: 1002\n",
      "\n",
      "Batch number 1\n",
      "First Element in the batch: 1003\n",
      "Second Element in the batch: 1004\n",
      "\n",
      "Batch number 2\n",
      "First Element in the batch: 1005\n",
      "Second Element in the batch: 1006\n",
      "\n",
      "Batch number 3\n",
      "First Element in the batch: 1007\n",
      "Second Element in the batch: 1008\n",
      "\n"
     ]
    }
   ],
   "source": [
    "for i, batch in enumerate(batches):\n",
    "    print(f\"Batch number {i}\")\n",
    "    print(\"First Element in the batch:\", batch[0])\n",
    "    print(\"Second Element in the batch:\", batch[1])\n",
    "    print(\"\")"
   ]
  },
  {
   "cell_type": "markdown",
   "id": "21acd041-ced9-4b65-864d-f0e5cf113f95",
   "metadata": {},
   "source": [
    "## 4. Categorizing Product Ratings"
   ]
  },
  {
   "cell_type": "code",
   "execution_count": 22,
   "id": "c764661b-2e6e-4377-8671-6e0a81472a48",
   "metadata": {},
   "outputs": [
    {
     "data": {
      "text/plain": [
       "array([4.5, 3.2, 2.8, 5. , 4.1, 3.9, 2.5, 4.7])"
      ]
     },
     "execution_count": 22,
     "metadata": {},
     "output_type": "execute_result"
    }
   ],
   "source": [
    "ratings = np.array([4.5, 3.2, 2.8, 5.0, 4.1, 3.9, 2.5, 4.7])\n",
    "ratings"
   ]
  },
  {
   "cell_type": "code",
   "execution_count": 24,
   "id": "a8c3d832-9b23-4a52-97dc-f4a1b5c54113",
   "metadata": {},
   "outputs": [
    {
     "data": {
      "text/plain": [
       "array([4.5, 5. , 4.1, 4.7])"
      ]
     },
     "execution_count": 24,
     "metadata": {},
     "output_type": "execute_result"
    }
   ],
   "source": [
    "positive_ratings = ratings[ratings >= 4.0]\n",
    "positive_ratings"
   ]
  },
  {
   "cell_type": "code",
   "execution_count": 25,
   "id": "27915dda-197f-4687-84e9-c62fde5b5640",
   "metadata": {},
   "outputs": [
    {
     "data": {
      "text/plain": [
       "array([3.2, 2.8, 3.9, 2.5])"
      ]
     },
     "execution_count": 25,
     "metadata": {},
     "output_type": "execute_result"
    }
   ],
   "source": [
    "negative_ratings = ratings[ratings <= 4.0]\n",
    "negative_ratings"
   ]
  },
  {
   "cell_type": "markdown",
   "id": "d22a192e-fb36-4492-a3e2-e46659c97408",
   "metadata": {},
   "source": [
    "## 5. Calculate Total and Average quantities sold"
   ]
  },
  {
   "cell_type": "code",
   "execution_count": 27,
   "id": "c483885a-e90d-4ddf-9f02-3ee5edfcc850",
   "metadata": {},
   "outputs": [
    {
     "data": {
      "text/plain": [
       "array([[ 5,  3,  2,  7],\n",
       "       [10,  6,  3,  9]])"
      ]
     },
     "execution_count": 27,
     "metadata": {},
     "output_type": "execute_result"
    }
   ],
   "source": [
    "# Each column is specific product (we have 4 products)\n",
    "# Each row is specific order (we have to orders)\n",
    "order_quantities = np.array([[5, 3, 2, 7], [10, 6, 3,9]])\n",
    "order_quantities"
   ]
  },
  {
   "cell_type": "code",
   "execution_count": 31,
   "id": "95282634-8f64-4622-b0bb-7744f8b45923",
   "metadata": {},
   "outputs": [
    {
     "data": {
      "text/plain": [
       "array([17, 28])"
      ]
     },
     "execution_count": 31,
     "metadata": {},
     "output_type": "execute_result"
    }
   ],
   "source": [
    "# Quantities of the sales per product\n",
    "total_products_per_order = np.sum(order_quantities, axis=1)\n",
    "total_products_per_order"
   ]
  },
  {
   "cell_type": "code",
   "execution_count": 34,
   "id": "ce2d755e-8d92-4657-b8be-8377a86fcf3a",
   "metadata": {},
   "outputs": [
    {
     "data": {
      "text/plain": [
       "array([7.5, 4.5, 2.5, 8. ])"
      ]
     },
     "execution_count": 34,
     "metadata": {},
     "output_type": "execute_result"
    }
   ],
   "source": [
    "# Average quantities per product across all orders\n",
    "average_quantities_sold = np.mean(order_quantities, axis=0)\n",
    "average_quantities_sold"
   ]
  },
  {
   "cell_type": "markdown",
   "id": "679c00bc-927f-4bae-b676-6313fbfd65d5",
   "metadata": {},
   "source": [
    "## 6. Calculate Average product Rating and Maximum raating per Category"
   ]
  },
  {
   "cell_type": "code",
   "execution_count": 38,
   "id": "8b4534f7-275e-47e5-ace1-0956a727eaa6",
   "metadata": {},
   "outputs": [
    {
     "data": {
      "text/plain": [
       "array([[4.5, 3.2, 2.5, 5. ],\n",
       "       [4.3, 3.8, 1. , 4.8],\n",
       "       [2. , 3.6, 4.7, 0.5]])"
      ]
     },
     "execution_count": 38,
     "metadata": {},
     "output_type": "execute_result"
    }
   ],
   "source": [
    "# Each row is one product\n",
    "# Each product is rated in 4 categories\n",
    "product_ratings = np.array([\n",
    "    [4.5, 3.2, 2.5, 5.0],\n",
    "    [4.3, 3.8, 1.0, 4.8],\n",
    "    [2.0, 3.6, 4.7, 0.5]\n",
    "])\n",
    "product_ratings"
   ]
  },
  {
   "cell_type": "code",
   "execution_count": 41,
   "id": "92d68451-29c4-4ada-9fb1-f484d638f88b",
   "metadata": {},
   "outputs": [
    {
     "data": {
      "text/plain": [
       "array([3.6       , 3.53333333, 2.73333333, 3.43333333])"
      ]
     },
     "execution_count": 41,
     "metadata": {},
     "output_type": "execute_result"
    }
   ],
   "source": [
    "# Average rating in each category\n",
    "avarage_rating_per_category = np.mean(product_ratings, axis=0)\n",
    "avarage_rating_per_category"
   ]
  },
  {
   "cell_type": "code",
   "execution_count": 43,
   "id": "63fc747b-feaa-428d-9a42-d69579202b1f",
   "metadata": {},
   "outputs": [
    {
     "data": {
      "text/plain": [
       "array([3.8  , 3.475, 2.7  ])"
      ]
     },
     "execution_count": 43,
     "metadata": {},
     "output_type": "execute_result"
    }
   ],
   "source": [
    "# Average rating in each product\n",
    "avarage_rating_per_product = np.mean(product_ratings, axis=1)\n",
    "avarage_rating_per_product"
   ]
  },
  {
   "cell_type": "code",
   "execution_count": 46,
   "id": "f3f72863-9c3d-4134-987a-c48989a8a5e7",
   "metadata": {},
   "outputs": [
    {
     "data": {
      "text/plain": [
       "array([4.5, 3.8, 4.7, 5. ])"
      ]
     },
     "execution_count": 46,
     "metadata": {},
     "output_type": "execute_result"
    }
   ],
   "source": [
    "# Maximum rating in each product\n",
    "max_rating_per_product = np.max(product_ratings, axis=0)\n",
    "max_rating_per_product"
   ]
  },
  {
   "cell_type": "markdown",
   "id": "d6e84250-9d4b-42b4-b0dc-1847dac9d569",
   "metadata": {},
   "source": [
    "## 7. Generation of the sample stock data"
   ]
  },
  {
   "cell_type": "code",
   "execution_count": 47,
   "id": "aae16623-8292-4a17-82bb-ba1596af3bb8",
   "metadata": {},
   "outputs": [],
   "source": [
    "companies = ['Google', 'Microsoft', 'Apple']\n",
    "days = ['Mon 1 April', 'True 2 April']\n",
    "price_types = ['Open', 'Close', 'Hight', 'Low']"
   ]
  },
  {
   "cell_type": "code",
   "execution_count": 49,
   "id": "56a6771c-f571-4732-9307-ea0a003189c1",
   "metadata": {},
   "outputs": [
    {
     "data": {
      "text/plain": [
       "array([[[0.417, 0.72 , 0.   , 0.302],\n",
       "        [0.147, 0.092, 0.186, 0.346]],\n",
       "\n",
       "       [[0.397, 0.539, 0.419, 0.685],\n",
       "        [0.204, 0.878, 0.027, 0.67 ]],\n",
       "\n",
       "       [[0.417, 0.559, 0.14 , 0.198],\n",
       "        [0.801, 0.968, 0.313, 0.692]]])"
      ]
     },
     "execution_count": 49,
     "metadata": {},
     "output_type": "execute_result"
    }
   ],
   "source": [
    "# shape will be (3, 2, 4)\n",
    "np.random.seed(1)\n",
    "stock_prices = np.round(np.random.random((len(companies), len(days), len(price_types))), 3)\n",
    "stock_prices"
   ]
  },
  {
   "cell_type": "code",
   "execution_count": 50,
   "id": "88a275c8-ecd4-485d-b08d-c3162b166ac2",
   "metadata": {},
   "outputs": [
    {
     "data": {
      "text/plain": [
       "(3, 2, 4)"
      ]
     },
     "execution_count": 50,
     "metadata": {},
     "output_type": "execute_result"
    }
   ],
   "source": [
    "stock_prices.shape"
   ]
  },
  {
   "cell_type": "code",
   "execution_count": 53,
   "id": "d6f59cc9-0e1a-4caf-873e-cae5d3dcd3c3",
   "metadata": {},
   "outputs": [
    {
     "name": "stdout",
     "output_type": "stream",
     "text": [
      "Stock prices for the Google:\n",
      "Day: Mon 1 April\n",
      "Open Price: 0.417\n",
      "Close Price: 0.72\n",
      "Hight Price: 0.0\n",
      "Low Price: 0.302\n",
      "\n",
      "Day: True 2 April\n",
      "Open Price: 0.147\n",
      "Close Price: 0.092\n",
      "Hight Price: 0.186\n",
      "Low Price: 0.346\n",
      "\n",
      "\n",
      "Stock prices for the Microsoft:\n",
      "Day: Mon 1 April\n",
      "Open Price: 0.397\n",
      "Close Price: 0.539\n",
      "Hight Price: 0.419\n",
      "Low Price: 0.685\n",
      "\n",
      "Day: True 2 April\n",
      "Open Price: 0.204\n",
      "Close Price: 0.878\n",
      "Hight Price: 0.027\n",
      "Low Price: 0.67\n",
      "\n",
      "\n",
      "Stock prices for the Apple:\n",
      "Day: Mon 1 April\n",
      "Open Price: 0.417\n",
      "Close Price: 0.559\n",
      "Hight Price: 0.14\n",
      "Low Price: 0.198\n",
      "\n",
      "Day: True 2 April\n",
      "Open Price: 0.801\n",
      "Close Price: 0.968\n",
      "Hight Price: 0.313\n",
      "Low Price: 0.692\n",
      "\n",
      "\n"
     ]
    }
   ],
   "source": [
    "for index_axis_0, company in enumerate(companies):\n",
    "    print(f'Stock prices for the {company}:')\n",
    "    for index_axis_1, day in enumerate(days):\n",
    "        print(f'Day: {day}')\n",
    "        for index_axis_2, price_type in enumerate(price_types):\n",
    "            print(f'{price_type} Price: {stock_prices[index_axis_0, index_axis_1, index_axis_2]}')\n",
    "        print('')\n",
    "    print('')"
   ]
  },
  {
   "cell_type": "code",
   "execution_count": null,
   "id": "fb482393-2688-4630-923f-c951030ab623",
   "metadata": {},
   "outputs": [],
   "source": []
  }
 ],
 "metadata": {
  "kernelspec": {
   "display_name": "Python 3 (ipykernel)",
   "language": "python",
   "name": "python3"
  },
  "language_info": {
   "codemirror_mode": {
    "name": "ipython",
    "version": 3
   },
   "file_extension": ".py",
   "mimetype": "text/x-python",
   "name": "python",
   "nbconvert_exporter": "python",
   "pygments_lexer": "ipython3",
   "version": "3.13.2"
  }
 },
 "nbformat": 4,
 "nbformat_minor": 5
}
