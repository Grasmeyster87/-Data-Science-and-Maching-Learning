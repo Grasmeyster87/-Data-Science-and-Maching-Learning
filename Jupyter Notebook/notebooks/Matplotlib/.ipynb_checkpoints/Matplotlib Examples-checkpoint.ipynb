{
 "cells": [
  {
   "cell_type": "code",
   "execution_count": 4,
   "id": "6092328a-c6d4-418c-b62b-706f1b02ebe3",
   "metadata": {},
   "outputs": [
    {
     "name": "stdout",
     "output_type": "stream",
     "text": [
      "Requirement already satisfied: seaborn in c:\\users\\azal\\.virtualenvs\\shooter-03bcbkvi\\lib\\site-packages (0.13.2)\n",
      "Requirement already satisfied: numpy!=1.24.0,>=1.20 in c:\\users\\azal\\.virtualenvs\\shooter-03bcbkvi\\lib\\site-packages (from seaborn) (2.2.3)\n",
      "Requirement already satisfied: pandas>=1.2 in c:\\users\\azal\\.virtualenvs\\shooter-03bcbkvi\\lib\\site-packages (from seaborn) (2.2.3)\n",
      "Requirement already satisfied: matplotlib!=3.6.1,>=3.4 in c:\\users\\azal\\.virtualenvs\\shooter-03bcbkvi\\lib\\site-packages (from seaborn) (3.10.1)\n",
      "Requirement already satisfied: contourpy>=1.0.1 in c:\\users\\azal\\.virtualenvs\\shooter-03bcbkvi\\lib\\site-packages (from matplotlib!=3.6.1,>=3.4->seaborn) (1.3.1)\n",
      "Requirement already satisfied: cycler>=0.10 in c:\\users\\azal\\.virtualenvs\\shooter-03bcbkvi\\lib\\site-packages (from matplotlib!=3.6.1,>=3.4->seaborn) (0.12.1)\n",
      "Requirement already satisfied: fonttools>=4.22.0 in c:\\users\\azal\\.virtualenvs\\shooter-03bcbkvi\\lib\\site-packages (from matplotlib!=3.6.1,>=3.4->seaborn) (4.56.0)\n",
      "Requirement already satisfied: kiwisolver>=1.3.1 in c:\\users\\azal\\.virtualenvs\\shooter-03bcbkvi\\lib\\site-packages (from matplotlib!=3.6.1,>=3.4->seaborn) (1.4.8)\n",
      "Requirement already satisfied: packaging>=20.0 in c:\\users\\azal\\.virtualenvs\\shooter-03bcbkvi\\lib\\site-packages (from matplotlib!=3.6.1,>=3.4->seaborn) (24.2)\n",
      "Requirement already satisfied: pillow>=8 in c:\\users\\azal\\.virtualenvs\\shooter-03bcbkvi\\lib\\site-packages (from matplotlib!=3.6.1,>=3.4->seaborn) (11.1.0)\n",
      "Requirement already satisfied: pyparsing>=2.3.1 in c:\\users\\azal\\.virtualenvs\\shooter-03bcbkvi\\lib\\site-packages (from matplotlib!=3.6.1,>=3.4->seaborn) (3.2.1)\n",
      "Requirement already satisfied: python-dateutil>=2.7 in c:\\users\\azal\\.virtualenvs\\shooter-03bcbkvi\\lib\\site-packages (from matplotlib!=3.6.1,>=3.4->seaborn) (2.9.0.post0)\n",
      "Requirement already satisfied: pytz>=2020.1 in c:\\users\\azal\\.virtualenvs\\shooter-03bcbkvi\\lib\\site-packages (from pandas>=1.2->seaborn) (2025.1)\n",
      "Requirement already satisfied: tzdata>=2022.7 in c:\\users\\azal\\.virtualenvs\\shooter-03bcbkvi\\lib\\site-packages (from pandas>=1.2->seaborn) (2025.1)\n",
      "Requirement already satisfied: six>=1.5 in c:\\users\\azal\\.virtualenvs\\shooter-03bcbkvi\\lib\\site-packages (from python-dateutil>=2.7->matplotlib!=3.6.1,>=3.4->seaborn) (1.17.0)\n"
     ]
    },
    {
     "name": "stderr",
     "output_type": "stream",
     "text": [
      "\n",
      "[notice] A new release of pip is available: 24.3.1 -> 25.0.1\n",
      "[notice] To update, run: python.exe -m pip install --upgrade pip\n"
     ]
    }
   ],
   "source": [
    "!pip install seaborn"
   ]
  },
  {
   "cell_type": "code",
   "execution_count": 5,
   "id": "f7a85c75-e082-4c93-84d5-46de9c97b753",
   "metadata": {},
   "outputs": [
    {
     "ename": "ModuleNotFoundError",
     "evalue": "No module named 'seaborn'",
     "output_type": "error",
     "traceback": [
      "\u001b[1;31m---------------------------------------------------------------------------\u001b[0m",
      "\u001b[1;31mModuleNotFoundError\u001b[0m                       Traceback (most recent call last)",
      "Cell \u001b[1;32mIn[5], line 3\u001b[0m\n\u001b[0;32m      1\u001b[0m \u001b[38;5;28;01mimport\u001b[39;00m\u001b[38;5;250m \u001b[39m\u001b[38;5;21;01mmatplotlib\u001b[39;00m\u001b[38;5;21;01m.\u001b[39;00m\u001b[38;5;21;01mpyplot\u001b[39;00m\u001b[38;5;250m \u001b[39m\u001b[38;5;28;01mas\u001b[39;00m\u001b[38;5;250m \u001b[39m\u001b[38;5;21;01mplt\u001b[39;00m\n\u001b[0;32m      2\u001b[0m \u001b[38;5;28;01mimport\u001b[39;00m\u001b[38;5;250m \u001b[39m\u001b[38;5;21;01mpandas\u001b[39;00m\u001b[38;5;250m \u001b[39m\u001b[38;5;28;01mas\u001b[39;00m\u001b[38;5;250m \u001b[39m\u001b[38;5;21;01mpd\u001b[39;00m\n\u001b[1;32m----> 3\u001b[0m \u001b[38;5;28;01mimport\u001b[39;00m\u001b[38;5;250m \u001b[39m\u001b[38;5;21;01mseaborn\u001b[39;00m\u001b[38;5;250m \u001b[39m\u001b[38;5;28;01mas\u001b[39;00m\u001b[38;5;250m \u001b[39m\u001b[38;5;21;01msns\u001b[39;00m\n",
      "\u001b[1;31mModuleNotFoundError\u001b[0m: No module named 'seaborn'"
     ]
    }
   ],
   "source": [
    "import matplotlib.pyplot as plt\n",
    "import pandas as pd\n",
    "import seaborn as sns"
   ]
  },
  {
   "cell_type": "code",
   "execution_count": null,
   "id": "eb674188-31a3-4faf-ae13-df1499f0c008",
   "metadata": {},
   "outputs": [],
   "source": [
    "values = [0, 1, 2, 3, 4, 5, 6, 7]\n",
    "squares = [value ** 2 for value in values]\n",
    "squares"
   ]
  },
  {
   "cell_type": "code",
   "execution_count": null,
   "id": "d65aef44-c0db-42af-87d6-59c8430c0def",
   "metadata": {},
   "outputs": [],
   "source": [
    "plt.plot(values, squares)\n",
    "plt.show()"
   ]
  },
  {
   "cell_type": "code",
   "execution_count": null,
   "id": "65678a33-171d-4355-a17c-39999e737f9e",
   "metadata": {},
   "outputs": [],
   "source": [
    "plt.scatter(values, squares)\n",
    "plt.show"
   ]
  },
  {
   "cell_type": "code",
   "execution_count": null,
   "id": "35b03612-8242-4e2b-96aa-9d1926ab566b",
   "metadata": {},
   "outputs": [],
   "source": [
    "values = list(range(100))\n",
    "pows = [pow(value, 3) for value in values]\n",
    "plt.scatter(values, pows)\n",
    "plt.show()"
   ]
  },
  {
   "cell_type": "code",
   "execution_count": null,
   "id": "b631626f-1620-4158-ab5c-05a58f56cfe1",
   "metadata": {},
   "outputs": [],
   "source": [
    "plt.scatter(values, pows, c=pows, cmap=plt.cm.Blues, edgecolor='none', s=10)\n",
    "plt.show()"
   ]
  },
  {
   "cell_type": "code",
   "execution_count": null,
   "id": "73b703c8-4cff-4605-a991-89b95847beda",
   "metadata": {},
   "outputs": [],
   "source": [
    "values = list(range(50))\n",
    "squares = [pow(value, 2) for value in values]\n",
    "cubes = [pow(value, 3) for value in values]\n",
    "\n",
    "fig, (ax1, ax2) = plt.subplots(2, 1, sharex= True)\n",
    "ax1.scatter(values, squares)\n",
    "ax1.set_title('Square numbers')\n",
    "ax2.plot(values, cubes)\n",
    "ax2.set_title('Cube numbers')\n",
    "plt.show()"
   ]
  },
  {
   "cell_type": "code",
   "execution_count": null,
   "id": "a704e4b5-d392-40b4-a510-f17c76f5f049",
   "metadata": {},
   "outputs": [],
   "source": [
    "values = list(range(10))\n",
    "squares = [pow(value, 2) for value in values]\n",
    "cubes = [pow(value, 3) for value in values]\n",
    "\n",
    "fig, (ax1, ax2) = plt.subplots(1, 2, sharey= True)\n",
    "ax1.scatter(values, squares)\n",
    "ax1.set_title('Square numbers')\n",
    "ax2.plot(values, cubes)\n",
    "ax2.set_title('Cube numbers')\n",
    "plt.show()"
   ]
  },
  {
   "cell_type": "code",
   "execution_count": null,
   "id": "b85590c3-95ab-4d63-a24b-2948158328f5",
   "metadata": {},
   "outputs": [],
   "source": [
    "data = {\n",
    "    'Year': [2001, 2002, 2003, 2004, 2005, 2006],\n",
    "    'Sales': [100, 150, 130, 180, 210, 230]\n",
    "}\n",
    "\n",
    "df = pd.DataFrame(data)\n",
    "df.plot(x='Year', y='Sales', kind='line')\n",
    "plt.title('Yearly Sales')\n",
    "plt.show()\n"
   ]
  },
  {
   "cell_type": "code",
   "execution_count": null,
   "id": "d163b6ed-476d-444d-b28a-a241b23163fc",
   "metadata": {},
   "outputs": [],
   "source": [
    "data = {\n",
    "    'Year': [2001, 2002, 2003, 2004, 2005, 2006],\n",
    "    'Sales': [100, 150, 130, 180, 210, 230]\n",
    "}\n",
    "\n",
    "df = pd.DataFrame(data)\n",
    "df.plot(y='Sales', kind='pie', labels=df['Year'], autopct='%1.1f%%')\n",
    "plt.title('Yearly Sales')\n",
    "plt.show()\n"
   ]
  },
  {
   "cell_type": "code",
   "execution_count": null,
   "id": "d7aad37d-7c12-4133-a235-ba4890e23094",
   "metadata": {},
   "outputs": [],
   "source": [
    "data = {\n",
    "    'Age': [25, 28, 32, 41, 42, 42, 50, 59, 60]\n",
    "}\n",
    "\n",
    "df = pd.DataFrame(data)\n",
    "df.plot(y='Age', kind='hist')\n",
    "plt.title('Age distribution')\n",
    "plt.show()"
   ]
  },
  {
   "cell_type": "code",
   "execution_count": null,
   "id": "30edf1f3-47bb-4032-89ba-5403e22c7d28",
   "metadata": {},
   "outputs": [],
   "source": [
    "data = {\n",
    "    'Category': ['FIRST', 'FIRST', 'SECOND', 'SECOND', 'THIRD', 'THIRD', 'SECOND'],\n",
    "    'Value': [10, 20, 25, 45, 45, 50, 50]\n",
    "}\n",
    "\n",
    "df = pd.DataFrame(data)\n",
    "df"
   ]
  },
  {
   "cell_type": "code",
   "execution_count": null,
   "id": "a43cb1b9-850a-4c9d-95b5-1201648205a4",
   "metadata": {},
   "outputs": [],
   "source": [
    "df.boxplot(by='Category', column='Value')\n",
    "plt.title('Values distribution by category')\n",
    "plt.show()"
   ]
  },
  {
   "cell_type": "code",
   "execution_count": null,
   "id": "65517cac-60dc-46ba-9f4c-08bb1b766c73",
   "metadata": {},
   "outputs": [],
   "source": [
    "data = {\n",
    "    'Month': ['Jan', 'Fab', 'Mar', 'Apr', 'May'],\n",
    "    'Week 1 Temp': [6, 10, 12, 14, 17],\n",
    "    'Week 2 Temp': [8, 12, 13, 14, 18],\n",
    "    'Week 3 Temp': [9, 11, 14, 16, 20],\n",
    "    'Week 4 Temp': [10, 15, 10, 17, 22],\n",
    "}\n",
    "\n",
    "df = pd.DataFrame(data)\n",
    "df.head()"
   ]
  },
  {
   "cell_type": "code",
   "execution_count": null,
   "id": "78f3acb5-25cc-417c-a320-1ddc87ddb2ca",
   "metadata": {},
   "outputs": [],
   "source": [
    "df.set_index('Month', inplace=True)\n",
    "df.head()"
   ]
  },
  {
   "cell_type": "code",
   "execution_count": null,
   "id": "ef1c5666-4c21-410a-8177-c332cc2fba1e",
   "metadata": {},
   "outputs": [],
   "source": []
  }
 ],
 "metadata": {
  "kernelspec": {
   "display_name": "Python 3 (ipykernel)",
   "language": "python",
   "name": "python3"
  },
  "language_info": {
   "codemirror_mode": {
    "name": "ipython",
    "version": 3
   },
   "file_extension": ".py",
   "mimetype": "text/x-python",
   "name": "python",
   "nbconvert_exporter": "python",
   "pygments_lexer": "ipython3",
   "version": "3.13.2"
  }
 },
 "nbformat": 4,
 "nbformat_minor": 5
}
