{
 "cells": [
  {
   "cell_type": "code",
   "execution_count": 1,
   "id": "be0af1d7-b950-4518-93ae-4d522b25c5fc",
   "metadata": {},
   "outputs": [
    {
     "name": "stdout",
     "output_type": "stream",
     "text": [
      "Requirement already satisfied: openpyxl in c:\\users\\azal\\appdata\\local\\programs\\python\\python313\\lib\\site-packages (3.1.5)\n",
      "Requirement already satisfied: matplotlib in c:\\users\\azal\\appdata\\local\\programs\\python\\python313\\lib\\site-packages (3.10.1)\n",
      "Requirement already satisfied: et-xmlfile in c:\\users\\azal\\appdata\\local\\programs\\python\\python313\\lib\\site-packages (from openpyxl) (2.0.0)\n",
      "Requirement already satisfied: contourpy>=1.0.1 in c:\\users\\azal\\appdata\\local\\programs\\python\\python313\\lib\\site-packages (from matplotlib) (1.3.1)\n",
      "Requirement already satisfied: cycler>=0.10 in c:\\users\\azal\\appdata\\local\\programs\\python\\python313\\lib\\site-packages (from matplotlib) (0.12.1)\n",
      "Requirement already satisfied: fonttools>=4.22.0 in c:\\users\\azal\\appdata\\local\\programs\\python\\python313\\lib\\site-packages (from matplotlib) (4.56.0)\n",
      "Requirement already satisfied: kiwisolver>=1.3.1 in c:\\users\\azal\\appdata\\local\\programs\\python\\python313\\lib\\site-packages (from matplotlib) (1.4.8)\n",
      "Requirement already satisfied: numpy>=1.23 in c:\\users\\azal\\appdata\\local\\programs\\python\\python313\\lib\\site-packages (from matplotlib) (2.2.3)\n",
      "Requirement already satisfied: packaging>=20.0 in c:\\users\\azal\\appdata\\local\\programs\\python\\python313\\lib\\site-packages (from matplotlib) (24.2)\n",
      "Requirement already satisfied: pillow>=8 in c:\\users\\azal\\appdata\\local\\programs\\python\\python313\\lib\\site-packages (from matplotlib) (11.1.0)\n",
      "Requirement already satisfied: pyparsing>=2.3.1 in c:\\users\\azal\\appdata\\local\\programs\\python\\python313\\lib\\site-packages (from matplotlib) (3.2.1)\n",
      "Requirement already satisfied: python-dateutil>=2.7 in c:\\users\\azal\\appdata\\local\\programs\\python\\python313\\lib\\site-packages (from matplotlib) (2.9.0.post0)\n",
      "Requirement already satisfied: six>=1.5 in c:\\users\\azal\\appdata\\local\\programs\\python\\python313\\lib\\site-packages (from python-dateutil>=2.7->matplotlib) (1.17.0)\n"
     ]
    }
   ],
   "source": [
    "!pip install openpyxl matplotlib"
   ]
  },
  {
   "cell_type": "code",
   "execution_count": 2,
   "id": "4cd3de6e-2b1f-4bd6-9ffd-0c7a80ac33f0",
   "metadata": {},
   "outputs": [],
   "source": [
    "import pandas as pd\n",
    "import numpy as np\n",
    "import matplotlib.pyplot as plt"
   ]
  },
  {
   "cell_type": "code",
   "execution_count": 3,
   "id": "5d581a92-76eb-4e4c-99af-a53fd0be274d",
   "metadata": {},
   "outputs": [],
   "source": [
    "np.random.seed(1)\n",
    "n=100\n",
    "dates = pd.date_range(start='2050-01-01', periods=n, freq='D')\n",
    "# dates"
   ]
  },
  {
   "cell_type": "code",
   "execution_count": 4,
   "id": "7a553be9-8c28-422e-b4c0-ea9b85466cf1",
   "metadata": {},
   "outputs": [],
   "source": [
    "# products = ['Tablet', 'Camera', 'Phone']\n",
    "products = np.random.choice(['Tablet', 'Camera', 'Phone', 'Microphone', 'Keyboard'], n)\n",
    "prices = np.round(np.random.uniform(50.0, 200.0, n), 2)\n",
    "# prices"
   ]
  },
  {
   "cell_type": "code",
   "execution_count": 5,
   "id": "e4ad8bc2-e7bf-41e8-aa47-60f4be14c1cd",
   "metadata": {},
   "outputs": [],
   "source": [
    "quantities = np.random.randint(1, 15, n)\n",
    "# quantities"
   ]
  },
  {
   "cell_type": "code",
   "execution_count": 6,
   "id": "a3bb8437-446f-4f48-ad89-f35edf131605",
   "metadata": {},
   "outputs": [],
   "source": [
    "# products"
   ]
  },
  {
   "cell_type": "code",
   "execution_count": 7,
   "id": "e3609882-9519-48f6-bdb4-6f2a3188cc14",
   "metadata": {},
   "outputs": [
    {
     "data": {
      "text/plain": [
       "{'Date': DatetimeIndex(['2050-01-01', '2050-01-02', '2050-01-03', '2050-01-04',\n",
       "                '2050-01-05', '2050-01-06', '2050-01-07', '2050-01-08',\n",
       "                '2050-01-09', '2050-01-10', '2050-01-11', '2050-01-12',\n",
       "                '2050-01-13', '2050-01-14', '2050-01-15', '2050-01-16',\n",
       "                '2050-01-17', '2050-01-18', '2050-01-19', '2050-01-20',\n",
       "                '2050-01-21', '2050-01-22', '2050-01-23', '2050-01-24',\n",
       "                '2050-01-25', '2050-01-26', '2050-01-27', '2050-01-28',\n",
       "                '2050-01-29', '2050-01-30', '2050-01-31', '2050-02-01',\n",
       "                '2050-02-02', '2050-02-03', '2050-02-04', '2050-02-05',\n",
       "                '2050-02-06', '2050-02-07', '2050-02-08', '2050-02-09',\n",
       "                '2050-02-10', '2050-02-11', '2050-02-12', '2050-02-13',\n",
       "                '2050-02-14', '2050-02-15', '2050-02-16', '2050-02-17',\n",
       "                '2050-02-18', '2050-02-19', '2050-02-20', '2050-02-21',\n",
       "                '2050-02-22', '2050-02-23', '2050-02-24', '2050-02-25',\n",
       "                '2050-02-26', '2050-02-27', '2050-02-28', '2050-03-01',\n",
       "                '2050-03-02', '2050-03-03', '2050-03-04', '2050-03-05',\n",
       "                '2050-03-06', '2050-03-07', '2050-03-08', '2050-03-09',\n",
       "                '2050-03-10', '2050-03-11', '2050-03-12', '2050-03-13',\n",
       "                '2050-03-14', '2050-03-15', '2050-03-16', '2050-03-17',\n",
       "                '2050-03-18', '2050-03-19', '2050-03-20', '2050-03-21',\n",
       "                '2050-03-22', '2050-03-23', '2050-03-24', '2050-03-25',\n",
       "                '2050-03-26', '2050-03-27', '2050-03-28', '2050-03-29',\n",
       "                '2050-03-30', '2050-03-31', '2050-04-01', '2050-04-02',\n",
       "                '2050-04-03', '2050-04-04', '2050-04-05', '2050-04-06',\n",
       "                '2050-04-07', '2050-04-08', '2050-04-09', '2050-04-10'],\n",
       "               dtype='datetime64[ns]', freq='D'),\n",
       " 'Product': array(['Microphone', 'Keyboard', 'Tablet', 'Camera', 'Microphone',\n",
       "        'Tablet', 'Tablet', 'Camera', 'Keyboard', 'Keyboard', 'Camera',\n",
       "        'Phone', 'Keyboard', 'Phone', 'Keyboard', 'Microphone', 'Keyboard',\n",
       "        'Phone', 'Keyboard', 'Phone', 'Keyboard', 'Camera', 'Camera',\n",
       "        'Tablet', 'Camera', 'Camera', 'Camera', 'Camera', 'Tablet',\n",
       "        'Keyboard', 'Camera', 'Tablet', 'Tablet', 'Microphone', 'Phone',\n",
       "        'Camera', 'Tablet', 'Microphone', 'Camera', 'Camera', 'Microphone',\n",
       "        'Keyboard', 'Tablet', 'Camera', 'Microphone', 'Keyboard', 'Phone',\n",
       "        'Keyboard', 'Tablet', 'Microphone', 'Camera', 'Phone', 'Tablet',\n",
       "        'Keyboard', 'Camera', 'Phone', 'Phone', 'Camera', 'Tablet',\n",
       "        'Camera', 'Microphone', 'Keyboard', 'Microphone', 'Camera',\n",
       "        'Microphone', 'Tablet', 'Tablet', 'Phone', 'Phone', 'Camera',\n",
       "        'Microphone', 'Keyboard', 'Phone', 'Tablet', 'Tablet', 'Camera',\n",
       "        'Camera', 'Microphone', 'Tablet', 'Tablet', 'Keyboard', 'Phone',\n",
       "        'Keyboard', 'Microphone', 'Microphone', 'Tablet', 'Microphone',\n",
       "        'Keyboard', 'Microphone', 'Keyboard', 'Keyboard', 'Keyboard',\n",
       "        'Camera', 'Tablet', 'Keyboard', 'Phone', 'Tablet', 'Phone',\n",
       "        'Keyboard', 'Camera'], dtype='<U10'),\n",
       " 'Price': array([147.16, 103.09, 164.48, 103.48, 162.92, 182.2 ,  51.75, 124.72,\n",
       "         61.07, 168.04,  59.61, 103.3 , 191.28, 106.97, 164.44, 165.74,\n",
       "         95.2 , 165.91,  72.94, 136.8 ,  51.35, 156.36, 120.6 , 164.69,\n",
       "        120.11,  90.35, 174.75, 132.7 ,  60.51, 120.87, 161.41,  78.79,\n",
       "        119.65,  84.55, 126.24,  81.29,  57.4 , 127.83,  75.84, 109.45,\n",
       "         66.1 , 126.47,  65.32,  93.31,  84.76, 195.15,  91.75,  85.04,\n",
       "         63.73, 135.51, 112.69, 105.18, 171.95,  93.46, 157.61, 141.94,\n",
       "        114.04, 162.78, 114.17, 114.26, 104.29,  73.  , 190.58, 187.46,\n",
       "        167.29, 142.45,  55.4 , 148.15,  69.47,  94.15, 104.12,  91.2 ,\n",
       "         61.1 ,  72.82,  74.24, 190.81, 105.67,  57.5 , 161.14,  94.8 ,\n",
       "         80.65, 197.26, 183.95, 163.9 , 147.67,  55.95, 172.08, 164.39,\n",
       "        118.29, 129.77,  66.4 ,  71.9 , 126.32,  82.35, 187.47, 119.32,\n",
       "         69.84, 164.64,  81.91,  61.14]),\n",
       " 'Quantity': array([ 7, 10,  7,  1,  1,  3, 13, 10,  7,  1,  7,  8,  1,  4, 10,  1, 13,\n",
       "         4, 11, 12,  5,  8,  6, 13,  4,  9,  9,  1,  7,  8, 13, 14, 10,  6,\n",
       "         5, 10, 11,  6,  3, 14, 13,  6,  7, 12,  7, 13, 13,  9, 12, 11, 13,\n",
       "         8,  8,  8, 14, 12, 13,  3,  7, 12,  1, 14,  6,  3,  2, 12, 11,  9,\n",
       "         6, 10,  5, 10, 12, 12,  2,  3,  1, 11,  5,  8,  1,  7,  3,  5,  4,\n",
       "         7, 13,  8,  7,  4,  1, 14,  7, 14,  5,  8,  7,  3, 11, 13],\n",
       "       dtype=int32)}"
      ]
     },
     "execution_count": 7,
     "metadata": {},
     "output_type": "execute_result"
    }
   ],
   "source": [
    "data = {\n",
    "    'Date': dates,\n",
    "    'Product': products,\n",
    "    'Price': prices,\n",
    "    'Quantity': quantities\n",
    "}\n",
    "\n",
    "data"
   ]
  },
  {
   "cell_type": "code",
   "execution_count": 8,
   "id": "4e5cd415-353e-498e-a398-ae5a04837ad5",
   "metadata": {},
   "outputs": [
    {
     "data": {
      "text/html": [
       "<div>\n",
       "<style scoped>\n",
       "    .dataframe tbody tr th:only-of-type {\n",
       "        vertical-align: middle;\n",
       "    }\n",
       "\n",
       "    .dataframe tbody tr th {\n",
       "        vertical-align: top;\n",
       "    }\n",
       "\n",
       "    .dataframe thead th {\n",
       "        text-align: right;\n",
       "    }\n",
       "</style>\n",
       "<table border=\"1\" class=\"dataframe\">\n",
       "  <thead>\n",
       "    <tr style=\"text-align: right;\">\n",
       "      <th></th>\n",
       "      <th>Date</th>\n",
       "      <th>Product</th>\n",
       "      <th>Price</th>\n",
       "      <th>Quantity</th>\n",
       "    </tr>\n",
       "  </thead>\n",
       "  <tbody>\n",
       "    <tr>\n",
       "      <th>0</th>\n",
       "      <td>2050-01-01</td>\n",
       "      <td>Microphone</td>\n",
       "      <td>147.16</td>\n",
       "      <td>7</td>\n",
       "    </tr>\n",
       "    <tr>\n",
       "      <th>1</th>\n",
       "      <td>2050-01-02</td>\n",
       "      <td>Keyboard</td>\n",
       "      <td>103.09</td>\n",
       "      <td>10</td>\n",
       "    </tr>\n",
       "    <tr>\n",
       "      <th>2</th>\n",
       "      <td>2050-01-03</td>\n",
       "      <td>Tablet</td>\n",
       "      <td>164.48</td>\n",
       "      <td>7</td>\n",
       "    </tr>\n",
       "    <tr>\n",
       "      <th>3</th>\n",
       "      <td>2050-01-04</td>\n",
       "      <td>Camera</td>\n",
       "      <td>103.48</td>\n",
       "      <td>1</td>\n",
       "    </tr>\n",
       "    <tr>\n",
       "      <th>4</th>\n",
       "      <td>2050-01-05</td>\n",
       "      <td>Microphone</td>\n",
       "      <td>162.92</td>\n",
       "      <td>1</td>\n",
       "    </tr>\n",
       "  </tbody>\n",
       "</table>\n",
       "</div>"
      ],
      "text/plain": [
       "        Date     Product   Price  Quantity\n",
       "0 2050-01-01  Microphone  147.16         7\n",
       "1 2050-01-02    Keyboard  103.09        10\n",
       "2 2050-01-03      Tablet  164.48         7\n",
       "3 2050-01-04      Camera  103.48         1\n",
       "4 2050-01-05  Microphone  162.92         1"
      ]
     },
     "execution_count": 8,
     "metadata": {},
     "output_type": "execute_result"
    }
   ],
   "source": [
    "df = pd.DataFrame(data)\n",
    "df.head()"
   ]
  },
  {
   "cell_type": "code",
   "execution_count": 9,
   "id": "1d4b1262-fe5f-48ed-9720-1794da501bf5",
   "metadata": {},
   "outputs": [
    {
     "data": {
      "text/plain": [
       "Date        datetime64[ns]\n",
       "Product             object\n",
       "Price              float64\n",
       "Quantity             int32\n",
       "dtype: object"
      ]
     },
     "execution_count": 9,
     "metadata": {},
     "output_type": "execute_result"
    }
   ],
   "source": [
    "df.dtypes"
   ]
  },
  {
   "cell_type": "code",
   "execution_count": 10,
   "id": "8e2d5836-496e-4765-9df7-44b85d1e5022",
   "metadata": {},
   "outputs": [],
   "source": [
    "df.to_csv('random_sales.csv', index=False)"
   ]
  },
  {
   "cell_type": "code",
   "execution_count": 11,
   "id": "a29486ef-2e97-4e18-b4c6-e147b5d8e33f",
   "metadata": {},
   "outputs": [],
   "source": [
    "df = pd.read_csv('random_sales.csv', parse_dates=['Date'], date_format = '%Y-%m-%d')"
   ]
  },
  {
   "cell_type": "code",
   "execution_count": 12,
   "id": "dc188c6c-bac4-429f-a147-1501d9814f5d",
   "metadata": {},
   "outputs": [
    {
     "data": {
      "text/html": [
       "<div>\n",
       "<style scoped>\n",
       "    .dataframe tbody tr th:only-of-type {\n",
       "        vertical-align: middle;\n",
       "    }\n",
       "\n",
       "    .dataframe tbody tr th {\n",
       "        vertical-align: top;\n",
       "    }\n",
       "\n",
       "    .dataframe thead th {\n",
       "        text-align: right;\n",
       "    }\n",
       "</style>\n",
       "<table border=\"1\" class=\"dataframe\">\n",
       "  <thead>\n",
       "    <tr style=\"text-align: right;\">\n",
       "      <th></th>\n",
       "      <th>Date</th>\n",
       "      <th>Product</th>\n",
       "      <th>Price</th>\n",
       "      <th>Quantity</th>\n",
       "    </tr>\n",
       "  </thead>\n",
       "  <tbody>\n",
       "    <tr>\n",
       "      <th>0</th>\n",
       "      <td>2050-01-01</td>\n",
       "      <td>Microphone</td>\n",
       "      <td>147.16</td>\n",
       "      <td>7</td>\n",
       "    </tr>\n",
       "    <tr>\n",
       "      <th>1</th>\n",
       "      <td>2050-01-02</td>\n",
       "      <td>Keyboard</td>\n",
       "      <td>103.09</td>\n",
       "      <td>10</td>\n",
       "    </tr>\n",
       "    <tr>\n",
       "      <th>2</th>\n",
       "      <td>2050-01-03</td>\n",
       "      <td>Tablet</td>\n",
       "      <td>164.48</td>\n",
       "      <td>7</td>\n",
       "    </tr>\n",
       "    <tr>\n",
       "      <th>3</th>\n",
       "      <td>2050-01-04</td>\n",
       "      <td>Camera</td>\n",
       "      <td>103.48</td>\n",
       "      <td>1</td>\n",
       "    </tr>\n",
       "    <tr>\n",
       "      <th>4</th>\n",
       "      <td>2050-01-05</td>\n",
       "      <td>Microphone</td>\n",
       "      <td>162.92</td>\n",
       "      <td>1</td>\n",
       "    </tr>\n",
       "  </tbody>\n",
       "</table>\n",
       "</div>"
      ],
      "text/plain": [
       "        Date     Product   Price  Quantity\n",
       "0 2050-01-01  Microphone  147.16         7\n",
       "1 2050-01-02    Keyboard  103.09        10\n",
       "2 2050-01-03      Tablet  164.48         7\n",
       "3 2050-01-04      Camera  103.48         1\n",
       "4 2050-01-05  Microphone  162.92         1"
      ]
     },
     "execution_count": 12,
     "metadata": {},
     "output_type": "execute_result"
    }
   ],
   "source": [
    "df.head()"
   ]
  },
  {
   "cell_type": "code",
   "execution_count": 13,
   "id": "33cd655d-7274-41bd-8693-316b4000ffb8",
   "metadata": {},
   "outputs": [
    {
     "data": {
      "text/plain": [
       "Date        datetime64[ns]\n",
       "Product             object\n",
       "Price              float64\n",
       "Quantity             int64\n",
       "dtype: object"
      ]
     },
     "execution_count": 13,
     "metadata": {},
     "output_type": "execute_result"
    }
   ],
   "source": [
    "df.dtypes"
   ]
  },
  {
   "cell_type": "code",
   "execution_count": 14,
   "id": "29db22ae-5a1e-46b8-9e6e-dedf4e934f93",
   "metadata": {},
   "outputs": [],
   "source": [
    "df.to_excel('sales_data.xlsx')"
   ]
  },
  {
   "cell_type": "code",
   "execution_count": 15,
   "id": "95abd019-2783-47a6-b65e-2b94813e2b6b",
   "metadata": {},
   "outputs": [],
   "source": [
    "df.to_json('sales_data.json')"
   ]
  },
  {
   "cell_type": "code",
   "execution_count": 16,
   "id": "19d82bf8-95f4-4f85-8e9e-c2b28a897ad0",
   "metadata": {},
   "outputs": [
    {
     "data": {
      "text/plain": [
       "(100, 4)"
      ]
     },
     "execution_count": 16,
     "metadata": {},
     "output_type": "execute_result"
    }
   ],
   "source": [
    "df.shape"
   ]
  },
  {
   "cell_type": "code",
   "execution_count": 17,
   "id": "bf65e8a1-8a67-41f0-9333-4eacd24d63fb",
   "metadata": {},
   "outputs": [
    {
     "data": {
      "text/html": [
       "<div>\n",
       "<style scoped>\n",
       "    .dataframe tbody tr th:only-of-type {\n",
       "        vertical-align: middle;\n",
       "    }\n",
       "\n",
       "    .dataframe tbody tr th {\n",
       "        vertical-align: top;\n",
       "    }\n",
       "\n",
       "    .dataframe thead th {\n",
       "        text-align: right;\n",
       "    }\n",
       "</style>\n",
       "<table border=\"1\" class=\"dataframe\">\n",
       "  <thead>\n",
       "    <tr style=\"text-align: right;\">\n",
       "      <th></th>\n",
       "      <th>Date</th>\n",
       "      <th>Price</th>\n",
       "      <th>Quantity</th>\n",
       "    </tr>\n",
       "  </thead>\n",
       "  <tbody>\n",
       "    <tr>\n",
       "      <th>count</th>\n",
       "      <td>100</td>\n",
       "      <td>100.00</td>\n",
       "      <td>100.00</td>\n",
       "    </tr>\n",
       "    <tr>\n",
       "      <th>mean</th>\n",
       "      <td>2050-02-19 12:00:00</td>\n",
       "      <td>117.32</td>\n",
       "      <td>7.79</td>\n",
       "    </tr>\n",
       "    <tr>\n",
       "      <th>min</th>\n",
       "      <td>2050-01-01 00:00:00</td>\n",
       "      <td>51.35</td>\n",
       "      <td>1.00</td>\n",
       "    </tr>\n",
       "    <tr>\n",
       "      <th>25%</th>\n",
       "      <td>2050-01-25 18:00:00</td>\n",
       "      <td>81.13</td>\n",
       "      <td>5.00</td>\n",
       "    </tr>\n",
       "    <tr>\n",
       "      <th>50%</th>\n",
       "      <td>2050-02-19 12:00:00</td>\n",
       "      <td>114.10</td>\n",
       "      <td>8.00</td>\n",
       "    </tr>\n",
       "    <tr>\n",
       "      <th>75%</th>\n",
       "      <td>2050-03-16 06:00:00</td>\n",
       "      <td>161.21</td>\n",
       "      <td>11.25</td>\n",
       "    </tr>\n",
       "    <tr>\n",
       "      <th>max</th>\n",
       "      <td>2050-04-10 00:00:00</td>\n",
       "      <td>197.26</td>\n",
       "      <td>14.00</td>\n",
       "    </tr>\n",
       "    <tr>\n",
       "      <th>std</th>\n",
       "      <td>NaN</td>\n",
       "      <td>42.47</td>\n",
       "      <td>4.03</td>\n",
       "    </tr>\n",
       "  </tbody>\n",
       "</table>\n",
       "</div>"
      ],
      "text/plain": [
       "                      Date   Price  Quantity\n",
       "count                  100  100.00    100.00\n",
       "mean   2050-02-19 12:00:00  117.32      7.79\n",
       "min    2050-01-01 00:00:00   51.35      1.00\n",
       "25%    2050-01-25 18:00:00   81.13      5.00\n",
       "50%    2050-02-19 12:00:00  114.10      8.00\n",
       "75%    2050-03-16 06:00:00  161.21     11.25\n",
       "max    2050-04-10 00:00:00  197.26     14.00\n",
       "std                    NaN   42.47      4.03"
      ]
     },
     "execution_count": 17,
     "metadata": {},
     "output_type": "execute_result"
    }
   ],
   "source": [
    "df.describe().round(2)"
   ]
  },
  {
   "cell_type": "code",
   "execution_count": 18,
   "id": "aab7793c-d1e2-4f04-9fbf-31dcff125845",
   "metadata": {},
   "outputs": [
    {
     "data": {
      "text/plain": [
       "array([[Timestamp('2050-01-01 00:00:00'), 'Microphone', 147.16, 7],\n",
       "       [Timestamp('2050-01-02 00:00:00'), 'Keyboard', 103.09, 10],\n",
       "       [Timestamp('2050-01-03 00:00:00'), 'Tablet', 164.48, 7],\n",
       "       [Timestamp('2050-01-04 00:00:00'), 'Camera', 103.48, 1],\n",
       "       [Timestamp('2050-01-05 00:00:00'), 'Microphone', 162.92, 1]],\n",
       "      dtype=object)"
      ]
     },
     "execution_count": 18,
     "metadata": {},
     "output_type": "execute_result"
    }
   ],
   "source": [
    "df.values[:5]"
   ]
  },
  {
   "cell_type": "code",
   "execution_count": 19,
   "id": "41b5f8ae-fb45-439d-9b1d-6d74c749ede9",
   "metadata": {},
   "outputs": [],
   "source": [
    "product_sales = df.groupby('Product')['Quantity'].sum()"
   ]
  },
  {
   "cell_type": "code",
   "execution_count": 20,
   "id": "41f201a7-8de0-478a-9d5d-fbf6817d5bb1",
   "metadata": {},
   "outputs": [
    {
     "data": {
      "text/plain": [
       "Product\n",
       "Camera        121.54\n",
       "Keyboard      115.61\n",
       "Microphone    129.43\n",
       "Phone         123.47\n",
       "Tablet        100.17\n",
       "Name: Price, dtype: float64"
      ]
     },
     "execution_count": 20,
     "metadata": {},
     "output_type": "execute_result"
    }
   ],
   "source": [
    "average_prices = df.groupby('Product')['Price'].mean().round(2)\n",
    "average_prices"
   ]
  },
  {
   "cell_type": "code",
   "execution_count": 21,
   "id": "fe329952-b280-42de-87b0-9c7b2767ea90",
   "metadata": {},
   "outputs": [
    {
     "data": {
      "image/png": "[encoded data removed]",
      "text/plain": [
       "<Figure size 640x480 with 1 Axes>"
      ]
     },
     "metadata": {},
     "output_type": "display_data"
    }
   ],
   "source": [
    "plt.bar(product_sales.index, product_sales.values, color = ['red', 'green', 'blue'])\n",
    "plt.title('Total Sales per Product')\n",
    "plt.xlabel('Product')\n",
    "plt.ylabel('Total Sales')\n",
    "plt.show()"
   ]
  },
  {
   "cell_type": "code",
   "execution_count": 23,
   "id": "b908a22e-4729-4b9a-abba-feab278f7d71",
   "metadata": {},
   "outputs": [
    {
     "data": {
      "image/png": "[encoded data removed]",
      "text/plain": [
       "<Figure size 640x480 with 1 Axes>"
      ]
     },
     "metadata": {},
     "output_type": "display_data"
    }
   ],
   "source": [
    "plt.plot(average_prices.index, average_prices.values)\n",
    "plt.title('Average Price per Product')\n",
    "plt.xlabel('Product')\n",
    "plt.ylabel('Average Price')\n",
    "plt.show()"
   ]
  },
  {
   "cell_type": "code",
   "execution_count": null,
   "id": "a83be1ae-aa04-4ea6-b2fa-1c1b13a22d0d",
   "metadata": {},
   "outputs": [],
   "source": []
  }
 ],
 "metadata": {
  "kernelspec": {
   "display_name": "Python 3 (ipykernel)",
   "language": "python",
   "name": "python3"
  },
  "language_info": {
   "codemirror_mode": {
    "name": "ipython",
    "version": 3
   },
   "file_extension": ".py",
   "mimetype": "text/x-python",
   "name": "python",
   "nbconvert_exporter": "python",
   "pygments_lexer": "ipython3",
   "version": "3.13.2"
  }
 },
 "nbformat": 4,
 "nbformat_minor": 5
}
